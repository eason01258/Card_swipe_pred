{
 "cells": [
  {
   "cell_type": "code",
   "execution_count": 1,
   "metadata": {},
   "outputs": [],
   "source": [
    "import os\n",
    "import pandas as pd \n",
    "import numpy as np\n",
    "import matplotlib.pyplot as plt\n",
    "import seaborn as sns"
   ]
  },
  {
   "cell_type": "code",
   "execution_count": 2,
   "metadata": {},
   "outputs": [
    {
     "data": {
      "text/html": [
       "<div>\n",
       "<style scoped>\n",
       "    .dataframe tbody tr th:only-of-type {\n",
       "        vertical-align: middle;\n",
       "    }\n",
       "\n",
       "    .dataframe tbody tr th {\n",
       "        vertical-align: top;\n",
       "    }\n",
       "\n",
       "    .dataframe thead th {\n",
       "        text-align: right;\n",
       "    }\n",
       "</style>\n",
       "<table border=\"1\" class=\"dataframe\">\n",
       "  <thead>\n",
       "    <tr style=\"text-align: right;\">\n",
       "      <th></th>\n",
       "      <th>user_id</th>\n",
       "      <th>device_id</th>\n",
       "      <th>age</th>\n",
       "      <th>sex</th>\n",
       "      <th>browser</th>\n",
       "      <th>source</th>\n",
       "      <th>country</th>\n",
       "      <th>purchase_value</th>\n",
       "      <th>signup_time</th>\n",
       "      <th>purchase_time</th>\n",
       "      <th>class</th>\n",
       "    </tr>\n",
       "  </thead>\n",
       "  <tbody>\n",
       "    <tr>\n",
       "      <th>0</th>\n",
       "      <td>6b5aecb444b26</td>\n",
       "      <td>7a543b4bf3647</td>\n",
       "      <td>33</td>\n",
       "      <td>0</td>\n",
       "      <td>Safari</td>\n",
       "      <td>Ads</td>\n",
       "      <td>United States</td>\n",
       "      <td>48</td>\n",
       "      <td>2018-05-27 12:02:29</td>\n",
       "      <td>2018-08-19 14:09:55</td>\n",
       "      <td>0</td>\n",
       "    </tr>\n",
       "    <tr>\n",
       "      <th>1</th>\n",
       "      <td>f00edc3db68f0</td>\n",
       "      <td>c35ab03e7ff0f</td>\n",
       "      <td>26</td>\n",
       "      <td>1</td>\n",
       "      <td>Chrome</td>\n",
       "      <td>Direct</td>\n",
       "      <td>European Union</td>\n",
       "      <td>50</td>\n",
       "      <td>2018-06-06 08:09:12</td>\n",
       "      <td>2018-09-09 01:26:43</td>\n",
       "      <td>0</td>\n",
       "    </tr>\n",
       "    <tr>\n",
       "      <th>2</th>\n",
       "      <td>6f144a20b2e41</td>\n",
       "      <td>31a274c4b1d58</td>\n",
       "      <td>28</td>\n",
       "      <td>0</td>\n",
       "      <td>Chrome</td>\n",
       "      <td>Direct</td>\n",
       "      <td>United States</td>\n",
       "      <td>31</td>\n",
       "      <td>2018-03-29 18:24:17</td>\n",
       "      <td>2018-06-13 04:56:21</td>\n",
       "      <td>0</td>\n",
       "    </tr>\n",
       "    <tr>\n",
       "      <th>3</th>\n",
       "      <td>21db12c470157</td>\n",
       "      <td>74e7d74dbd61d</td>\n",
       "      <td>50</td>\n",
       "      <td>0</td>\n",
       "      <td>FireFox</td>\n",
       "      <td>Ads</td>\n",
       "      <td>United States</td>\n",
       "      <td>31</td>\n",
       "      <td>2018-06-18 02:49:33</td>\n",
       "      <td>2018-06-29 23:31:45</td>\n",
       "      <td>0</td>\n",
       "    </tr>\n",
       "    <tr>\n",
       "      <th>4</th>\n",
       "      <td>af1753dfd703c</td>\n",
       "      <td>b5f31ea91ae62</td>\n",
       "      <td>27</td>\n",
       "      <td>1</td>\n",
       "      <td>IE</td>\n",
       "      <td>SEO</td>\n",
       "      <td>United States</td>\n",
       "      <td>16</td>\n",
       "      <td>2018-01-31 18:26:38</td>\n",
       "      <td>2018-02-13 16:36:51</td>\n",
       "      <td>0</td>\n",
       "    </tr>\n",
       "  </tbody>\n",
       "</table>\n",
       "</div>"
      ],
      "text/plain": [
       "         user_id      device_id  age  sex  browser  source         country  \\\n",
       "0  6b5aecb444b26  7a543b4bf3647   33    0   Safari     Ads   United States   \n",
       "1  f00edc3db68f0  c35ab03e7ff0f   26    1   Chrome  Direct  European Union   \n",
       "2  6f144a20b2e41  31a274c4b1d58   28    0   Chrome  Direct   United States   \n",
       "3  21db12c470157  74e7d74dbd61d   50    0  FireFox     Ads   United States   \n",
       "4  af1753dfd703c  b5f31ea91ae62   27    1       IE     SEO   United States   \n",
       "\n",
       "   purchase_value          signup_time        purchase_time  class  \n",
       "0              48  2018-05-27 12:02:29  2018-08-19 14:09:55      0  \n",
       "1              50  2018-06-06 08:09:12  2018-09-09 01:26:43      0  \n",
       "2              31  2018-03-29 18:24:17  2018-06-13 04:56:21      0  \n",
       "3              31  2018-06-18 02:49:33  2018-06-29 23:31:45      0  \n",
       "4              16  2018-01-31 18:26:38  2018-02-13 16:36:51      0  "
      ]
     },
     "execution_count": 2,
     "metadata": {},
     "output_type": "execute_result"
    }
   ],
   "source": [
    "train_data = pd.read_csv('./train.csv')\n",
    "train_data.head(5)"
   ]
  },
  {
   "cell_type": "code",
   "execution_count": 3,
   "metadata": {},
   "outputs": [
    {
     "data": {
      "text/html": [
       "<div>\n",
       "<style scoped>\n",
       "    .dataframe tbody tr th:only-of-type {\n",
       "        vertical-align: middle;\n",
       "    }\n",
       "\n",
       "    .dataframe tbody tr th {\n",
       "        vertical-align: top;\n",
       "    }\n",
       "\n",
       "    .dataframe thead th {\n",
       "        text-align: right;\n",
       "    }\n",
       "</style>\n",
       "<table border=\"1\" class=\"dataframe\">\n",
       "  <thead>\n",
       "    <tr style=\"text-align: right;\">\n",
       "      <th></th>\n",
       "      <th>user_id</th>\n",
       "      <th>device_id</th>\n",
       "      <th>age</th>\n",
       "      <th>sex</th>\n",
       "      <th>browser</th>\n",
       "      <th>source</th>\n",
       "      <th>country</th>\n",
       "      <th>purchase_value</th>\n",
       "      <th>signup_time</th>\n",
       "      <th>purchase_time</th>\n",
       "    </tr>\n",
       "  </thead>\n",
       "  <tbody>\n",
       "    <tr>\n",
       "      <th>0</th>\n",
       "      <td>8fdb79dfdab19</td>\n",
       "      <td>5b4f85edff32c</td>\n",
       "      <td>32</td>\n",
       "      <td>1</td>\n",
       "      <td>Safari</td>\n",
       "      <td>SEO</td>\n",
       "      <td>United States</td>\n",
       "      <td>32</td>\n",
       "      <td>2018-02-05 04:39:18</td>\n",
       "      <td>2018-03-16 07:59:53</td>\n",
       "    </tr>\n",
       "    <tr>\n",
       "      <th>1</th>\n",
       "      <td>ae01bb5893cf5</td>\n",
       "      <td>3019f1e63a34b</td>\n",
       "      <td>47</td>\n",
       "      <td>1</td>\n",
       "      <td>Chrome</td>\n",
       "      <td>Direct</td>\n",
       "      <td>United States</td>\n",
       "      <td>30</td>\n",
       "      <td>2018-03-30 02:46:05</td>\n",
       "      <td>2018-05-15 15:33:45</td>\n",
       "    </tr>\n",
       "    <tr>\n",
       "      <th>2</th>\n",
       "      <td>563df4fb75a3d</td>\n",
       "      <td>431b43e6f56c8</td>\n",
       "      <td>26</td>\n",
       "      <td>1</td>\n",
       "      <td>Chrome</td>\n",
       "      <td>SEO</td>\n",
       "      <td>Panama</td>\n",
       "      <td>49</td>\n",
       "      <td>2018-02-16 04:53:25</td>\n",
       "      <td>2018-05-08 08:25:02</td>\n",
       "    </tr>\n",
       "    <tr>\n",
       "      <th>3</th>\n",
       "      <td>b21070f161c56</td>\n",
       "      <td>edb32ffdd016e</td>\n",
       "      <td>33</td>\n",
       "      <td>0</td>\n",
       "      <td>Safari</td>\n",
       "      <td>SEO</td>\n",
       "      <td>Italy</td>\n",
       "      <td>31</td>\n",
       "      <td>2018-04-28 00:15:22</td>\n",
       "      <td>2018-08-19 12:47:15</td>\n",
       "    </tr>\n",
       "    <tr>\n",
       "      <th>4</th>\n",
       "      <td>ee9775da22b94</td>\n",
       "      <td>32bcf0c089ae3</td>\n",
       "      <td>35</td>\n",
       "      <td>0</td>\n",
       "      <td>Chrome</td>\n",
       "      <td>Direct</td>\n",
       "      <td>United States</td>\n",
       "      <td>15</td>\n",
       "      <td>2018-05-08 16:42:44</td>\n",
       "      <td>2018-05-20 12:30:28</td>\n",
       "    </tr>\n",
       "  </tbody>\n",
       "</table>\n",
       "</div>"
      ],
      "text/plain": [
       "         user_id      device_id  age  sex browser  source        country  \\\n",
       "0  8fdb79dfdab19  5b4f85edff32c   32    1  Safari     SEO  United States   \n",
       "1  ae01bb5893cf5  3019f1e63a34b   47    1  Chrome  Direct  United States   \n",
       "2  563df4fb75a3d  431b43e6f56c8   26    1  Chrome     SEO         Panama   \n",
       "3  b21070f161c56  edb32ffdd016e   33    0  Safari     SEO          Italy   \n",
       "4  ee9775da22b94  32bcf0c089ae3   35    0  Chrome  Direct  United States   \n",
       "\n",
       "   purchase_value          signup_time        purchase_time  \n",
       "0              32  2018-02-05 04:39:18  2018-03-16 07:59:53  \n",
       "1              30  2018-03-30 02:46:05  2018-05-15 15:33:45  \n",
       "2              49  2018-02-16 04:53:25  2018-05-08 08:25:02  \n",
       "3              31  2018-04-28 00:15:22  2018-08-19 12:47:15  \n",
       "4              15  2018-05-08 16:42:44  2018-05-20 12:30:28  "
      ]
     },
     "execution_count": 3,
     "metadata": {},
     "output_type": "execute_result"
    }
   ],
   "source": [
    "test_data = pd.read_csv('./test.csv')\n",
    "test_data.head(5)"
   ]
  },
  {
   "cell_type": "code",
   "execution_count": 4,
   "metadata": {},
   "outputs": [
    {
     "name": "stdout",
     "output_type": "stream",
     "text": [
      "0    6b5aecb444b26\n",
      "1    f00edc3db68f0\n",
      "2    6f144a20b2e41\n",
      "Name: user_id, dtype: object\n",
      "----------------------------\n",
      "----------------------------\n",
      "----------------------------\n",
      "\n",
      "0    8fdb79dfdab19\n",
      "1    ae01bb5893cf5\n",
      "2    563df4fb75a3d\n",
      "Name: user_id, dtype: object\n"
     ]
    }
   ],
   "source": [
    "train_id =  train_data['user_id']  #######    訓練集 id\n",
    "train_class = train_data['class']  #######    訓練集 y\n",
    "test_id = test_data['user_id']       #######   測試集 id\n",
    "\n",
    "print(train_id[0:3],end = '\\n')\n",
    "print('----------------------------\\n'*3)\n",
    "print(test_id[0:3])\n"
   ]
  },
  {
   "cell_type": "code",
   "execution_count": 5,
   "metadata": {},
   "outputs": [
    {
     "name": "stdout",
     "output_type": "stream",
     "text": [
      "(108800, 11)\n",
      "(27200, 10)\n"
     ]
    }
   ],
   "source": [
    "print(train_data.shape)\n",
    "print(test_data.shape)"
   ]
  },
  {
   "cell_type": "code",
   "execution_count": 6,
   "metadata": {},
   "outputs": [
    {
     "name": "stdout",
     "output_type": "stream",
     "text": [
      "[0 0 0 ... 0 0 0]\n"
     ]
    }
   ],
   "source": [
    "print(train_class.values)"
   ]
  },
  {
   "cell_type": "code",
   "execution_count": 7,
   "metadata": {},
   "outputs": [
    {
     "name": "stdout",
     "output_type": "stream",
     "text": [
      "(108800, 9)\n",
      "(27200, 9)\n"
     ]
    }
   ],
   "source": [
    "train_data.drop('user_id', axis = 1 , inplace = True)\n",
    "train_data.drop('class', axis = 1, inplace = True)\n",
    "test_data.drop('user_id', axis = 1 , inplace = True)\n",
    "print(train_data.shape)\n",
    "print(test_data.shape)"
   ]
  },
  {
   "cell_type": "code",
   "execution_count": 8,
   "metadata": {},
   "outputs": [
    {
     "name": "stdout",
     "output_type": "stream",
     "text": [
      "<class 'pandas.core.frame.DataFrame'>\n",
      "RangeIndex: 108800 entries, 0 to 108799\n",
      "Data columns (total 9 columns):\n",
      " #   Column          Non-Null Count   Dtype \n",
      "---  ------          --------------   ----- \n",
      " 0   device_id       108800 non-null  object\n",
      " 1   age             108800 non-null  int64 \n",
      " 2   sex             108800 non-null  int64 \n",
      " 3   browser         108800 non-null  object\n",
      " 4   source          108800 non-null  object\n",
      " 5   country         92957 non-null   object\n",
      " 6   purchase_value  108800 non-null  int64 \n",
      " 7   signup_time     108800 non-null  object\n",
      " 8   purchase_time   108800 non-null  object\n",
      "dtypes: int64(3), object(6)\n",
      "memory usage: 7.5+ MB\n",
      "None \n",
      "\n",
      "-----------------------------------\n",
      "\n",
      "<class 'pandas.core.frame.DataFrame'>\n",
      "RangeIndex: 27200 entries, 0 to 27199\n",
      "Data columns (total 9 columns):\n",
      " #   Column          Non-Null Count  Dtype \n",
      "---  ------          --------------  ----- \n",
      " 0   device_id       27200 non-null  object\n",
      " 1   age             27200 non-null  int64 \n",
      " 2   sex             27200 non-null  int64 \n",
      " 3   browser         27200 non-null  object\n",
      " 4   source          27200 non-null  object\n",
      " 5   country         23277 non-null  object\n",
      " 6   purchase_value  27200 non-null  int64 \n",
      " 7   signup_time     27200 non-null  object\n",
      " 8   purchase_time   27200 non-null  object\n",
      "dtypes: int64(3), object(6)\n",
      "memory usage: 1.9+ MB\n",
      "None\n"
     ]
    }
   ],
   "source": [
    "print(train_data.info(), '\\n')\n",
    "print('-----------------------------------\\n')\n",
    "print(test_data.info(), end = '\\n')"
   ]
  },
  {
   "cell_type": "code",
   "execution_count": 9,
   "metadata": {},
   "outputs": [],
   "source": [
    "train_data['country'].fillna('Other', inplace = True)\n",
    "test_data['country'].fillna('Other', inplace = True)"
   ]
  },
  {
   "cell_type": "code",
   "execution_count": 10,
   "metadata": {},
   "outputs": [
    {
     "name": "stdout",
     "output_type": "stream",
     "text": [
      "<class 'pandas.core.frame.DataFrame'>\n",
      "RangeIndex: 108800 entries, 0 to 108799\n",
      "Data columns (total 9 columns):\n",
      " #   Column          Non-Null Count   Dtype \n",
      "---  ------          --------------   ----- \n",
      " 0   device_id       108800 non-null  object\n",
      " 1   age             108800 non-null  int64 \n",
      " 2   sex             108800 non-null  int64 \n",
      " 3   browser         108800 non-null  object\n",
      " 4   source          108800 non-null  object\n",
      " 5   country         108800 non-null  object\n",
      " 6   purchase_value  108800 non-null  int64 \n",
      " 7   signup_time     108800 non-null  object\n",
      " 8   purchase_time   108800 non-null  object\n",
      "dtypes: int64(3), object(6)\n",
      "memory usage: 7.5+ MB\n",
      "None \n",
      "\n",
      "-----------------------------------\n",
      "\n",
      "<class 'pandas.core.frame.DataFrame'>\n",
      "RangeIndex: 27200 entries, 0 to 27199\n",
      "Data columns (total 9 columns):\n",
      " #   Column          Non-Null Count  Dtype \n",
      "---  ------          --------------  ----- \n",
      " 0   device_id       27200 non-null  object\n",
      " 1   age             27200 non-null  int64 \n",
      " 2   sex             27200 non-null  int64 \n",
      " 3   browser         27200 non-null  object\n",
      " 4   source          27200 non-null  object\n",
      " 5   country         27200 non-null  object\n",
      " 6   purchase_value  27200 non-null  int64 \n",
      " 7   signup_time     27200 non-null  object\n",
      " 8   purchase_time   27200 non-null  object\n",
      "dtypes: int64(3), object(6)\n",
      "memory usage: 1.9+ MB\n",
      "None\n"
     ]
    }
   ],
   "source": [
    "print(train_data.info(), '\\n')\n",
    "print('-----------------------------------\\n')\n",
    "print(test_data.info(), end = '\\n')"
   ]
  },
  {
   "cell_type": "code",
   "execution_count": 11,
   "metadata": {},
   "outputs": [],
   "source": [
    "rep = train_data[\"device_id\"].duplicated()\n",
    "rep_1 = train_data[\"device_id\"][rep == True]"
   ]
  },
  {
   "cell_type": "code",
   "execution_count": 12,
   "metadata": {},
   "outputs": [
    {
     "data": {
      "text/plain": [
       "149       f405acc6848e3\n",
       "789       26bdfcc1978cf\n",
       "802       92804b6033639\n",
       "1290      26bdfcc1978cf\n",
       "1392      96fc51d893120\n",
       "              ...      \n",
       "108746    8d14bb734c918\n",
       "108761    26bdfcc1978cf\n",
       "108766    76b5799d8062c\n",
       "108791    e373af34f5d8f\n",
       "108792    85c55ab51405b\n",
       "Name: device_id, Length: 8143, dtype: object"
      ]
     },
     "execution_count": 12,
     "metadata": {},
     "output_type": "execute_result"
    }
   ],
   "source": [
    "rep_1"
   ]
  },
  {
   "cell_type": "code",
   "execution_count": 13,
   "metadata": {},
   "outputs": [],
   "source": [
    "train_data[\"repeat\"] = train_data[\"device_id\"].duplicated(keep=False) "
   ]
  },
  {
   "cell_type": "code",
   "execution_count": 14,
   "metadata": {},
   "outputs": [
    {
     "data": {
      "text/html": [
       "<div>\n",
       "<style scoped>\n",
       "    .dataframe tbody tr th:only-of-type {\n",
       "        vertical-align: middle;\n",
       "    }\n",
       "\n",
       "    .dataframe tbody tr th {\n",
       "        vertical-align: top;\n",
       "    }\n",
       "\n",
       "    .dataframe thead th {\n",
       "        text-align: right;\n",
       "    }\n",
       "</style>\n",
       "<table border=\"1\" class=\"dataframe\">\n",
       "  <thead>\n",
       "    <tr style=\"text-align: right;\">\n",
       "      <th></th>\n",
       "      <th>device_id</th>\n",
       "      <th>age</th>\n",
       "      <th>sex</th>\n",
       "      <th>browser</th>\n",
       "      <th>source</th>\n",
       "      <th>country</th>\n",
       "      <th>purchase_value</th>\n",
       "      <th>signup_time</th>\n",
       "      <th>purchase_time</th>\n",
       "      <th>repeat</th>\n",
       "    </tr>\n",
       "  </thead>\n",
       "  <tbody>\n",
       "    <tr>\n",
       "      <th>11</th>\n",
       "      <td>45277366e7695</td>\n",
       "      <td>28</td>\n",
       "      <td>0</td>\n",
       "      <td>Safari</td>\n",
       "      <td>Ads</td>\n",
       "      <td>United States</td>\n",
       "      <td>13</td>\n",
       "      <td>2018-06-26 18:18:47</td>\n",
       "      <td>2018-08-18 05:55:41</td>\n",
       "      <td>True</td>\n",
       "    </tr>\n",
       "    <tr>\n",
       "      <th>28</th>\n",
       "      <td>a280f8a8d8a6e</td>\n",
       "      <td>26</td>\n",
       "      <td>0</td>\n",
       "      <td>FireFox</td>\n",
       "      <td>SEO</td>\n",
       "      <td>United States</td>\n",
       "      <td>13</td>\n",
       "      <td>2018-01-11 19:45:27</td>\n",
       "      <td>2018-01-11 19:17:32</td>\n",
       "      <td>True</td>\n",
       "    </tr>\n",
       "    <tr>\n",
       "      <th>39</th>\n",
       "      <td>7a2ec9e4b54e1</td>\n",
       "      <td>57</td>\n",
       "      <td>1</td>\n",
       "      <td>FireFox</td>\n",
       "      <td>SEO</td>\n",
       "      <td>China</td>\n",
       "      <td>43</td>\n",
       "      <td>2018-01-10 21:39:29</td>\n",
       "      <td>2018-01-10 21:42:21</td>\n",
       "      <td>True</td>\n",
       "    </tr>\n",
       "    <tr>\n",
       "      <th>40</th>\n",
       "      <td>74352d7db3318</td>\n",
       "      <td>42</td>\n",
       "      <td>0</td>\n",
       "      <td>Chrome</td>\n",
       "      <td>Direct</td>\n",
       "      <td>United States</td>\n",
       "      <td>52</td>\n",
       "      <td>2018-01-06 16:04:16</td>\n",
       "      <td>2018-01-06 16:19:18</td>\n",
       "      <td>True</td>\n",
       "    </tr>\n",
       "    <tr>\n",
       "      <th>43</th>\n",
       "      <td>20c459a357291</td>\n",
       "      <td>24</td>\n",
       "      <td>0</td>\n",
       "      <td>FireFox</td>\n",
       "      <td>SEO</td>\n",
       "      <td>Italy</td>\n",
       "      <td>59</td>\n",
       "      <td>2018-03-22 20:39:41</td>\n",
       "      <td>2018-06-01 13:54:57</td>\n",
       "      <td>True</td>\n",
       "    </tr>\n",
       "    <tr>\n",
       "      <th>...</th>\n",
       "      <td>...</td>\n",
       "      <td>...</td>\n",
       "      <td>...</td>\n",
       "      <td>...</td>\n",
       "      <td>...</td>\n",
       "      <td>...</td>\n",
       "      <td>...</td>\n",
       "      <td>...</td>\n",
       "      <td>...</td>\n",
       "      <td>...</td>\n",
       "    </tr>\n",
       "    <tr>\n",
       "      <th>108746</th>\n",
       "      <td>8d14bb734c918</td>\n",
       "      <td>42</td>\n",
       "      <td>1</td>\n",
       "      <td>IE</td>\n",
       "      <td>SEO</td>\n",
       "      <td>Saudi Arabia</td>\n",
       "      <td>29</td>\n",
       "      <td>2018-01-30 14:10:57</td>\n",
       "      <td>2018-03-17 14:00:01</td>\n",
       "      <td>True</td>\n",
       "    </tr>\n",
       "    <tr>\n",
       "      <th>108761</th>\n",
       "      <td>26bdfcc1978cf</td>\n",
       "      <td>46</td>\n",
       "      <td>0</td>\n",
       "      <td>IE</td>\n",
       "      <td>Ads</td>\n",
       "      <td>Other</td>\n",
       "      <td>32</td>\n",
       "      <td>2018-01-11 06:26:53</td>\n",
       "      <td>2018-01-11 06:09:14</td>\n",
       "      <td>True</td>\n",
       "    </tr>\n",
       "    <tr>\n",
       "      <th>108766</th>\n",
       "      <td>76b5799d8062c</td>\n",
       "      <td>51</td>\n",
       "      <td>1</td>\n",
       "      <td>IE</td>\n",
       "      <td>Ads</td>\n",
       "      <td>China</td>\n",
       "      <td>35</td>\n",
       "      <td>2018-05-19 07:44:02</td>\n",
       "      <td>2018-06-03 00:13:53</td>\n",
       "      <td>True</td>\n",
       "    </tr>\n",
       "    <tr>\n",
       "      <th>108791</th>\n",
       "      <td>e373af34f5d8f</td>\n",
       "      <td>25</td>\n",
       "      <td>0</td>\n",
       "      <td>IE</td>\n",
       "      <td>SEO</td>\n",
       "      <td>Brazil</td>\n",
       "      <td>32</td>\n",
       "      <td>2018-06-08 18:21:24</td>\n",
       "      <td>2018-06-21 19:48:49</td>\n",
       "      <td>True</td>\n",
       "    </tr>\n",
       "    <tr>\n",
       "      <th>108792</th>\n",
       "      <td>85c55ab51405b</td>\n",
       "      <td>28</td>\n",
       "      <td>0</td>\n",
       "      <td>Chrome</td>\n",
       "      <td>SEO</td>\n",
       "      <td>Japan</td>\n",
       "      <td>20</td>\n",
       "      <td>2018-01-11 03:34:24</td>\n",
       "      <td>2018-01-11 03:41:34</td>\n",
       "      <td>True</td>\n",
       "    </tr>\n",
       "  </tbody>\n",
       "</table>\n",
       "<p>11732 rows × 10 columns</p>\n",
       "</div>"
      ],
      "text/plain": [
       "            device_id  age  sex  browser  source        country  \\\n",
       "11      45277366e7695   28    0   Safari     Ads  United States   \n",
       "28      a280f8a8d8a6e   26    0  FireFox     SEO  United States   \n",
       "39      7a2ec9e4b54e1   57    1  FireFox     SEO          China   \n",
       "40      74352d7db3318   42    0   Chrome  Direct  United States   \n",
       "43      20c459a357291   24    0  FireFox     SEO          Italy   \n",
       "...               ...  ...  ...      ...     ...            ...   \n",
       "108746  8d14bb734c918   42    1       IE     SEO   Saudi Arabia   \n",
       "108761  26bdfcc1978cf   46    0       IE     Ads          Other   \n",
       "108766  76b5799d8062c   51    1       IE     Ads          China   \n",
       "108791  e373af34f5d8f   25    0       IE     SEO         Brazil   \n",
       "108792  85c55ab51405b   28    0   Chrome     SEO          Japan   \n",
       "\n",
       "        purchase_value          signup_time        purchase_time  repeat  \n",
       "11                  13  2018-06-26 18:18:47  2018-08-18 05:55:41    True  \n",
       "28                  13  2018-01-11 19:45:27  2018-01-11 19:17:32    True  \n",
       "39                  43  2018-01-10 21:39:29  2018-01-10 21:42:21    True  \n",
       "40                  52  2018-01-06 16:04:16  2018-01-06 16:19:18    True  \n",
       "43                  59  2018-03-22 20:39:41  2018-06-01 13:54:57    True  \n",
       "...                ...                  ...                  ...     ...  \n",
       "108746              29  2018-01-30 14:10:57  2018-03-17 14:00:01    True  \n",
       "108761              32  2018-01-11 06:26:53  2018-01-11 06:09:14    True  \n",
       "108766              35  2018-05-19 07:44:02  2018-06-03 00:13:53    True  \n",
       "108791              32  2018-06-08 18:21:24  2018-06-21 19:48:49    True  \n",
       "108792              20  2018-01-11 03:34:24  2018-01-11 03:41:34    True  \n",
       "\n",
       "[11732 rows x 10 columns]"
      ]
     },
     "execution_count": 14,
     "metadata": {},
     "output_type": "execute_result"
    }
   ],
   "source": [
    "train_data[train_data['repeat']==True]"
   ]
  },
  {
   "cell_type": "code",
   "execution_count": 15,
   "metadata": {},
   "outputs": [],
   "source": [
    "test_data[\"repeat\"] = test_data[\"device_id\"].duplicated(keep=False)"
   ]
  },
  {
   "cell_type": "code",
   "execution_count": 16,
   "metadata": {},
   "outputs": [
    {
     "data": {
      "text/html": [
       "<div>\n",
       "<style scoped>\n",
       "    .dataframe tbody tr th:only-of-type {\n",
       "        vertical-align: middle;\n",
       "    }\n",
       "\n",
       "    .dataframe tbody tr th {\n",
       "        vertical-align: top;\n",
       "    }\n",
       "\n",
       "    .dataframe thead th {\n",
       "        text-align: right;\n",
       "    }\n",
       "</style>\n",
       "<table border=\"1\" class=\"dataframe\">\n",
       "  <thead>\n",
       "    <tr style=\"text-align: right;\">\n",
       "      <th></th>\n",
       "      <th>device_id</th>\n",
       "      <th>age</th>\n",
       "      <th>sex</th>\n",
       "      <th>browser</th>\n",
       "      <th>source</th>\n",
       "      <th>country</th>\n",
       "      <th>purchase_value</th>\n",
       "      <th>signup_time</th>\n",
       "      <th>purchase_time</th>\n",
       "      <th>repeat</th>\n",
       "    </tr>\n",
       "  </thead>\n",
       "  <tbody>\n",
       "    <tr>\n",
       "      <th>29</th>\n",
       "      <td>1fa77171d9fb4</td>\n",
       "      <td>33</td>\n",
       "      <td>0</td>\n",
       "      <td>Chrome</td>\n",
       "      <td>SEO</td>\n",
       "      <td>United Kingdom</td>\n",
       "      <td>45</td>\n",
       "      <td>2018-01-06 04:28:02</td>\n",
       "      <td>2018-01-06 04:04:11</td>\n",
       "      <td>True</td>\n",
       "    </tr>\n",
       "    <tr>\n",
       "      <th>33</th>\n",
       "      <td>3be4bf9d0b05b</td>\n",
       "      <td>36</td>\n",
       "      <td>1</td>\n",
       "      <td>IE</td>\n",
       "      <td>Direct</td>\n",
       "      <td>Japan</td>\n",
       "      <td>59</td>\n",
       "      <td>2018-01-12 09:21:30</td>\n",
       "      <td>2018-01-12 09:05:14</td>\n",
       "      <td>True</td>\n",
       "    </tr>\n",
       "    <tr>\n",
       "      <th>53</th>\n",
       "      <td>85fa1ab7872a3</td>\n",
       "      <td>31</td>\n",
       "      <td>1</td>\n",
       "      <td>IE</td>\n",
       "      <td>Direct</td>\n",
       "      <td>United States</td>\n",
       "      <td>20</td>\n",
       "      <td>2018-01-02 19:56:09</td>\n",
       "      <td>2018-01-02 19:44:04</td>\n",
       "      <td>True</td>\n",
       "    </tr>\n",
       "    <tr>\n",
       "      <th>64</th>\n",
       "      <td>4dc5322fc3b4b</td>\n",
       "      <td>37</td>\n",
       "      <td>0</td>\n",
       "      <td>Safari</td>\n",
       "      <td>Ads</td>\n",
       "      <td>United States</td>\n",
       "      <td>16</td>\n",
       "      <td>2018-06-28 14:24:09</td>\n",
       "      <td>2018-07-06 09:43:46</td>\n",
       "      <td>True</td>\n",
       "    </tr>\n",
       "    <tr>\n",
       "      <th>72</th>\n",
       "      <td>a5e582c0f0ae7</td>\n",
       "      <td>26</td>\n",
       "      <td>1</td>\n",
       "      <td>IE</td>\n",
       "      <td>SEO</td>\n",
       "      <td>Mexico</td>\n",
       "      <td>25</td>\n",
       "      <td>2018-01-04 07:04:46</td>\n",
       "      <td>2018-01-04 07:20:49</td>\n",
       "      <td>True</td>\n",
       "    </tr>\n",
       "    <tr>\n",
       "      <th>...</th>\n",
       "      <td>...</td>\n",
       "      <td>...</td>\n",
       "      <td>...</td>\n",
       "      <td>...</td>\n",
       "      <td>...</td>\n",
       "      <td>...</td>\n",
       "      <td>...</td>\n",
       "      <td>...</td>\n",
       "      <td>...</td>\n",
       "      <td>...</td>\n",
       "    </tr>\n",
       "    <tr>\n",
       "      <th>27139</th>\n",
       "      <td>4053b17302ea5</td>\n",
       "      <td>18</td>\n",
       "      <td>1</td>\n",
       "      <td>Safari</td>\n",
       "      <td>Direct</td>\n",
       "      <td>Indonesia</td>\n",
       "      <td>64</td>\n",
       "      <td>2018-08-15 05:20:03</td>\n",
       "      <td>2018-08-29 16:52:44</td>\n",
       "      <td>True</td>\n",
       "    </tr>\n",
       "    <tr>\n",
       "      <th>27140</th>\n",
       "      <td>8cc6f959c2f7f</td>\n",
       "      <td>39</td>\n",
       "      <td>0</td>\n",
       "      <td>FireFox</td>\n",
       "      <td>Ads</td>\n",
       "      <td>Iran (ISLAMIC Republic Of)</td>\n",
       "      <td>32</td>\n",
       "      <td>2018-01-07 18:43:06</td>\n",
       "      <td>2018-01-07 18:11:19</td>\n",
       "      <td>True</td>\n",
       "    </tr>\n",
       "    <tr>\n",
       "      <th>27153</th>\n",
       "      <td>59226d678507b</td>\n",
       "      <td>27</td>\n",
       "      <td>1</td>\n",
       "      <td>FireFox</td>\n",
       "      <td>Ads</td>\n",
       "      <td>United States</td>\n",
       "      <td>28</td>\n",
       "      <td>2018-01-02 03:01:02</td>\n",
       "      <td>2018-03-25 03:30:58</td>\n",
       "      <td>True</td>\n",
       "    </tr>\n",
       "    <tr>\n",
       "      <th>27170</th>\n",
       "      <td>f60272c912c8d</td>\n",
       "      <td>28</td>\n",
       "      <td>1</td>\n",
       "      <td>IE</td>\n",
       "      <td>SEO</td>\n",
       "      <td>United Kingdom</td>\n",
       "      <td>57</td>\n",
       "      <td>2018-01-05 02:38:47</td>\n",
       "      <td>2018-01-05 02:51:21</td>\n",
       "      <td>True</td>\n",
       "    </tr>\n",
       "    <tr>\n",
       "      <th>27183</th>\n",
       "      <td>211f044202e7a</td>\n",
       "      <td>29</td>\n",
       "      <td>0</td>\n",
       "      <td>FireFox</td>\n",
       "      <td>SEO</td>\n",
       "      <td>China</td>\n",
       "      <td>20</td>\n",
       "      <td>2018-01-01 18:52:10</td>\n",
       "      <td>2018-01-01 18:25:16</td>\n",
       "      <td>True</td>\n",
       "    </tr>\n",
       "  </tbody>\n",
       "</table>\n",
       "<p>1679 rows × 10 columns</p>\n",
       "</div>"
      ],
      "text/plain": [
       "           device_id  age  sex  browser  source                     country  \\\n",
       "29     1fa77171d9fb4   33    0   Chrome     SEO              United Kingdom   \n",
       "33     3be4bf9d0b05b   36    1       IE  Direct                       Japan   \n",
       "53     85fa1ab7872a3   31    1       IE  Direct               United States   \n",
       "64     4dc5322fc3b4b   37    0   Safari     Ads               United States   \n",
       "72     a5e582c0f0ae7   26    1       IE     SEO                      Mexico   \n",
       "...              ...  ...  ...      ...     ...                         ...   \n",
       "27139  4053b17302ea5   18    1   Safari  Direct                   Indonesia   \n",
       "27140  8cc6f959c2f7f   39    0  FireFox     Ads  Iran (ISLAMIC Republic Of)   \n",
       "27153  59226d678507b   27    1  FireFox     Ads               United States   \n",
       "27170  f60272c912c8d   28    1       IE     SEO              United Kingdom   \n",
       "27183  211f044202e7a   29    0  FireFox     SEO                       China   \n",
       "\n",
       "       purchase_value          signup_time        purchase_time  repeat  \n",
       "29                 45  2018-01-06 04:28:02  2018-01-06 04:04:11    True  \n",
       "33                 59  2018-01-12 09:21:30  2018-01-12 09:05:14    True  \n",
       "53                 20  2018-01-02 19:56:09  2018-01-02 19:44:04    True  \n",
       "64                 16  2018-06-28 14:24:09  2018-07-06 09:43:46    True  \n",
       "72                 25  2018-01-04 07:04:46  2018-01-04 07:20:49    True  \n",
       "...               ...                  ...                  ...     ...  \n",
       "27139              64  2018-08-15 05:20:03  2018-08-29 16:52:44    True  \n",
       "27140              32  2018-01-07 18:43:06  2018-01-07 18:11:19    True  \n",
       "27153              28  2018-01-02 03:01:02  2018-03-25 03:30:58    True  \n",
       "27170              57  2018-01-05 02:38:47  2018-01-05 02:51:21    True  \n",
       "27183              20  2018-01-01 18:52:10  2018-01-01 18:25:16    True  \n",
       "\n",
       "[1679 rows x 10 columns]"
      ]
     },
     "execution_count": 16,
     "metadata": {},
     "output_type": "execute_result"
    }
   ],
   "source": [
    "test_data[test_data['repeat']==True]"
   ]
  },
  {
   "cell_type": "code",
   "execution_count": 17,
   "metadata": {},
   "outputs": [
    {
     "name": "stdout",
     "output_type": "stream",
     "text": [
      "{True: 1, False: 0}\n"
     ]
    }
   ],
   "source": [
    "ma = { True  : 1 ,  False : 0 }\n",
    "print(ma)"
   ]
  },
  {
   "cell_type": "code",
   "execution_count": 18,
   "metadata": {},
   "outputs": [],
   "source": [
    "train_data[\"repeat\"] = train_data[\"repeat\"].map(ma)\n",
    "test_data[\"repeat\"] = test_data[\"repeat\"].map(ma)"
   ]
  },
  {
   "cell_type": "code",
   "execution_count": 19,
   "metadata": {},
   "outputs": [
    {
     "data": {
      "text/plain": [
       "(108800, 10)"
      ]
     },
     "execution_count": 19,
     "metadata": {},
     "output_type": "execute_result"
    }
   ],
   "source": [
    "train_data.shape"
   ]
  },
  {
   "cell_type": "code",
   "execution_count": 20,
   "metadata": {},
   "outputs": [
    {
     "data": {
      "text/plain": [
       "(27200, 10)"
      ]
     },
     "execution_count": 20,
     "metadata": {},
     "output_type": "execute_result"
    }
   ],
   "source": [
    "test_data.shape"
   ]
  },
  {
   "cell_type": "code",
   "execution_count": 21,
   "metadata": {},
   "outputs": [],
   "source": [
    "new_data = pd.concat((train_data, test_data), axis = 0 )"
   ]
  },
  {
   "cell_type": "code",
   "execution_count": 22,
   "metadata": {},
   "outputs": [
    {
     "name": "stdout",
     "output_type": "stream",
     "text": [
      "(136000, 10)\n",
      "136000\n"
     ]
    }
   ],
   "source": [
    "print(new_data.shape)\n",
    "print(108800+27200)"
   ]
  },
  {
   "cell_type": "code",
   "execution_count": 23,
   "metadata": {},
   "outputs": [],
   "source": [
    "new_data['time'] = (pd.to_datetime(new_data['purchase_time'])- pd.to_datetime(new_data['signup_time']))/pd.Timedelta(1,unit = 'm')"
   ]
  },
  {
   "cell_type": "code",
   "execution_count": 24,
   "metadata": {},
   "outputs": [
    {
     "data": {
      "text/html": [
       "<div>\n",
       "<style scoped>\n",
       "    .dataframe tbody tr th:only-of-type {\n",
       "        vertical-align: middle;\n",
       "    }\n",
       "\n",
       "    .dataframe tbody tr th {\n",
       "        vertical-align: top;\n",
       "    }\n",
       "\n",
       "    .dataframe thead th {\n",
       "        text-align: right;\n",
       "    }\n",
       "</style>\n",
       "<table border=\"1\" class=\"dataframe\">\n",
       "  <thead>\n",
       "    <tr style=\"text-align: right;\">\n",
       "      <th></th>\n",
       "      <th>age</th>\n",
       "      <th>sex</th>\n",
       "      <th>browser</th>\n",
       "      <th>source</th>\n",
       "      <th>country</th>\n",
       "      <th>purchase_value</th>\n",
       "      <th>repeat</th>\n",
       "      <th>time</th>\n",
       "    </tr>\n",
       "  </thead>\n",
       "  <tbody>\n",
       "    <tr>\n",
       "      <th>0</th>\n",
       "      <td>33</td>\n",
       "      <td>0</td>\n",
       "      <td>Safari</td>\n",
       "      <td>Ads</td>\n",
       "      <td>United States</td>\n",
       "      <td>48</td>\n",
       "      <td>0</td>\n",
       "      <td>121087.433333</td>\n",
       "    </tr>\n",
       "    <tr>\n",
       "      <th>1</th>\n",
       "      <td>26</td>\n",
       "      <td>1</td>\n",
       "      <td>Chrome</td>\n",
       "      <td>Direct</td>\n",
       "      <td>European Union</td>\n",
       "      <td>50</td>\n",
       "      <td>0</td>\n",
       "      <td>136397.516667</td>\n",
       "    </tr>\n",
       "    <tr>\n",
       "      <th>2</th>\n",
       "      <td>28</td>\n",
       "      <td>0</td>\n",
       "      <td>Chrome</td>\n",
       "      <td>Direct</td>\n",
       "      <td>United States</td>\n",
       "      <td>31</td>\n",
       "      <td>0</td>\n",
       "      <td>108632.066667</td>\n",
       "    </tr>\n",
       "    <tr>\n",
       "      <th>3</th>\n",
       "      <td>50</td>\n",
       "      <td>0</td>\n",
       "      <td>FireFox</td>\n",
       "      <td>Ads</td>\n",
       "      <td>United States</td>\n",
       "      <td>31</td>\n",
       "      <td>0</td>\n",
       "      <td>17082.200000</td>\n",
       "    </tr>\n",
       "    <tr>\n",
       "      <th>4</th>\n",
       "      <td>27</td>\n",
       "      <td>1</td>\n",
       "      <td>IE</td>\n",
       "      <td>SEO</td>\n",
       "      <td>United States</td>\n",
       "      <td>16</td>\n",
       "      <td>0</td>\n",
       "      <td>18610.216667</td>\n",
       "    </tr>\n",
       "    <tr>\n",
       "      <th>...</th>\n",
       "      <td>...</td>\n",
       "      <td>...</td>\n",
       "      <td>...</td>\n",
       "      <td>...</td>\n",
       "      <td>...</td>\n",
       "      <td>...</td>\n",
       "      <td>...</td>\n",
       "      <td>...</td>\n",
       "    </tr>\n",
       "    <tr>\n",
       "      <th>27195</th>\n",
       "      <td>29</td>\n",
       "      <td>1</td>\n",
       "      <td>IE</td>\n",
       "      <td>SEO</td>\n",
       "      <td>United States</td>\n",
       "      <td>48</td>\n",
       "      <td>0</td>\n",
       "      <td>84602.166667</td>\n",
       "    </tr>\n",
       "    <tr>\n",
       "      <th>27196</th>\n",
       "      <td>42</td>\n",
       "      <td>0</td>\n",
       "      <td>Safari</td>\n",
       "      <td>Ads</td>\n",
       "      <td>France</td>\n",
       "      <td>12</td>\n",
       "      <td>0</td>\n",
       "      <td>4751.750000</td>\n",
       "    </tr>\n",
       "    <tr>\n",
       "      <th>27197</th>\n",
       "      <td>41</td>\n",
       "      <td>1</td>\n",
       "      <td>Chrome</td>\n",
       "      <td>Ads</td>\n",
       "      <td>Other</td>\n",
       "      <td>26</td>\n",
       "      <td>0</td>\n",
       "      <td>7305.550000</td>\n",
       "    </tr>\n",
       "    <tr>\n",
       "      <th>27198</th>\n",
       "      <td>36</td>\n",
       "      <td>1</td>\n",
       "      <td>IE</td>\n",
       "      <td>Ads</td>\n",
       "      <td>Romania</td>\n",
       "      <td>17</td>\n",
       "      <td>0</td>\n",
       "      <td>91110.450000</td>\n",
       "    </tr>\n",
       "    <tr>\n",
       "      <th>27199</th>\n",
       "      <td>24</td>\n",
       "      <td>0</td>\n",
       "      <td>Chrome</td>\n",
       "      <td>Direct</td>\n",
       "      <td>United States</td>\n",
       "      <td>48</td>\n",
       "      <td>0</td>\n",
       "      <td>1860.016667</td>\n",
       "    </tr>\n",
       "  </tbody>\n",
       "</table>\n",
       "<p>136000 rows × 8 columns</p>\n",
       "</div>"
      ],
      "text/plain": [
       "       age  sex  browser  source         country  purchase_value  repeat  \\\n",
       "0       33    0   Safari     Ads   United States              48       0   \n",
       "1       26    1   Chrome  Direct  European Union              50       0   \n",
       "2       28    0   Chrome  Direct   United States              31       0   \n",
       "3       50    0  FireFox     Ads   United States              31       0   \n",
       "4       27    1       IE     SEO   United States              16       0   \n",
       "...    ...  ...      ...     ...             ...             ...     ...   \n",
       "27195   29    1       IE     SEO   United States              48       0   \n",
       "27196   42    0   Safari     Ads          France              12       0   \n",
       "27197   41    1   Chrome     Ads           Other              26       0   \n",
       "27198   36    1       IE     Ads         Romania              17       0   \n",
       "27199   24    0   Chrome  Direct   United States              48       0   \n",
       "\n",
       "                time  \n",
       "0      121087.433333  \n",
       "1      136397.516667  \n",
       "2      108632.066667  \n",
       "3       17082.200000  \n",
       "4       18610.216667  \n",
       "...              ...  \n",
       "27195   84602.166667  \n",
       "27196    4751.750000  \n",
       "27197    7305.550000  \n",
       "27198   91110.450000  \n",
       "27199    1860.016667  \n",
       "\n",
       "[136000 rows x 8 columns]"
      ]
     },
     "execution_count": 24,
     "metadata": {},
     "output_type": "execute_result"
    }
   ],
   "source": [
    "new_data.drop('signup_time', axis =1 ,inplace = True)\n",
    "new_data.drop('purchase_time', axis = 1, inplace = True)\n",
    "new_data.drop('device_id', axis = 1, inplace = True)\n",
    "new_data"
   ]
  },
  {
   "cell_type": "code",
   "execution_count": 25,
   "metadata": {},
   "outputs": [
    {
     "data": {
      "text/plain": [
       "dtype('float64')"
      ]
     },
     "execution_count": 25,
     "metadata": {},
     "output_type": "execute_result"
    }
   ],
   "source": [
    "new_data['time'].dtype"
   ]
  },
  {
   "cell_type": "code",
   "execution_count": 26,
   "metadata": {},
   "outputs": [
    {
     "data": {
      "text/plain": [
       "0        121087.433333\n",
       "1        136397.516667\n",
       "2        108632.066667\n",
       "3         17082.200000\n",
       "4         18610.216667\n",
       "             ...      \n",
       "27195     84602.166667\n",
       "27196      4751.750000\n",
       "27197      7305.550000\n",
       "27198     91110.450000\n",
       "27199      1860.016667\n",
       "Name: time, Length: 136000, dtype: float64"
      ]
     },
     "execution_count": 26,
     "metadata": {},
     "output_type": "execute_result"
    }
   ],
   "source": [
    "new_data['time']"
   ]
  },
  {
   "cell_type": "code",
   "execution_count": 27,
   "metadata": {},
   "outputs": [],
   "source": [
    "from sklearn import preprocessing \n",
    "new_data['time'] = preprocessing.minmax_scale(new_data['time'])  #, feature_range = (0,1))\n",
    "new_data['age'] = preprocessing.minmax_scale(new_data['age'])\n",
    "new_data['purchase_value'] = preprocessing.minmax_scale(new_data['purchase_value'])\n",
    "#preprocessing.scale(a, axis=axis)"
   ]
  },
  {
   "cell_type": "code",
   "execution_count": 28,
   "metadata": {},
   "outputs": [
    {
     "data": {
      "text/plain": [
       "0        0.700628\n",
       "1        0.789170\n",
       "2        0.628595\n",
       "3        0.099136\n",
       "4        0.107973\n",
       "           ...   \n",
       "27195    0.489623\n",
       "27196    0.027825\n",
       "27197    0.042595\n",
       "27198    0.527262\n",
       "27199    0.011101\n",
       "Name: time, Length: 136000, dtype: float64"
      ]
     },
     "execution_count": 28,
     "metadata": {},
     "output_type": "execute_result"
    }
   ],
   "source": [
    "new_data['time']"
   ]
  },
  {
   "cell_type": "code",
   "execution_count": 29,
   "metadata": {},
   "outputs": [
    {
     "data": {
      "text/html": [
       "<div>\n",
       "<style scoped>\n",
       "    .dataframe tbody tr th:only-of-type {\n",
       "        vertical-align: middle;\n",
       "    }\n",
       "\n",
       "    .dataframe tbody tr th {\n",
       "        vertical-align: top;\n",
       "    }\n",
       "\n",
       "    .dataframe thead th {\n",
       "        text-align: right;\n",
       "    }\n",
       "</style>\n",
       "<table border=\"1\" class=\"dataframe\">\n",
       "  <thead>\n",
       "    <tr style=\"text-align: right;\">\n",
       "      <th></th>\n",
       "      <th>age</th>\n",
       "      <th>sex</th>\n",
       "      <th>browser</th>\n",
       "      <th>source</th>\n",
       "      <th>country</th>\n",
       "      <th>purchase_value</th>\n",
       "      <th>repeat</th>\n",
       "      <th>time</th>\n",
       "    </tr>\n",
       "  </thead>\n",
       "  <tbody>\n",
       "    <tr>\n",
       "      <th>0</th>\n",
       "      <td>0.258621</td>\n",
       "      <td>0</td>\n",
       "      <td>Safari</td>\n",
       "      <td>Ads</td>\n",
       "      <td>United States</td>\n",
       "      <td>0.268966</td>\n",
       "      <td>0</td>\n",
       "      <td>0.700628</td>\n",
       "    </tr>\n",
       "    <tr>\n",
       "      <th>1</th>\n",
       "      <td>0.137931</td>\n",
       "      <td>1</td>\n",
       "      <td>Chrome</td>\n",
       "      <td>Direct</td>\n",
       "      <td>European Union</td>\n",
       "      <td>0.282759</td>\n",
       "      <td>0</td>\n",
       "      <td>0.789170</td>\n",
       "    </tr>\n",
       "    <tr>\n",
       "      <th>2</th>\n",
       "      <td>0.172414</td>\n",
       "      <td>0</td>\n",
       "      <td>Chrome</td>\n",
       "      <td>Direct</td>\n",
       "      <td>United States</td>\n",
       "      <td>0.151724</td>\n",
       "      <td>0</td>\n",
       "      <td>0.628595</td>\n",
       "    </tr>\n",
       "    <tr>\n",
       "      <th>3</th>\n",
       "      <td>0.551724</td>\n",
       "      <td>0</td>\n",
       "      <td>FireFox</td>\n",
       "      <td>Ads</td>\n",
       "      <td>United States</td>\n",
       "      <td>0.151724</td>\n",
       "      <td>0</td>\n",
       "      <td>0.099136</td>\n",
       "    </tr>\n",
       "    <tr>\n",
       "      <th>4</th>\n",
       "      <td>0.155172</td>\n",
       "      <td>1</td>\n",
       "      <td>IE</td>\n",
       "      <td>SEO</td>\n",
       "      <td>United States</td>\n",
       "      <td>0.048276</td>\n",
       "      <td>0</td>\n",
       "      <td>0.107973</td>\n",
       "    </tr>\n",
       "    <tr>\n",
       "      <th>...</th>\n",
       "      <td>...</td>\n",
       "      <td>...</td>\n",
       "      <td>...</td>\n",
       "      <td>...</td>\n",
       "      <td>...</td>\n",
       "      <td>...</td>\n",
       "      <td>...</td>\n",
       "      <td>...</td>\n",
       "    </tr>\n",
       "    <tr>\n",
       "      <th>27195</th>\n",
       "      <td>0.189655</td>\n",
       "      <td>1</td>\n",
       "      <td>IE</td>\n",
       "      <td>SEO</td>\n",
       "      <td>United States</td>\n",
       "      <td>0.268966</td>\n",
       "      <td>0</td>\n",
       "      <td>0.489623</td>\n",
       "    </tr>\n",
       "    <tr>\n",
       "      <th>27196</th>\n",
       "      <td>0.413793</td>\n",
       "      <td>0</td>\n",
       "      <td>Safari</td>\n",
       "      <td>Ads</td>\n",
       "      <td>France</td>\n",
       "      <td>0.020690</td>\n",
       "      <td>0</td>\n",
       "      <td>0.027825</td>\n",
       "    </tr>\n",
       "    <tr>\n",
       "      <th>27197</th>\n",
       "      <td>0.396552</td>\n",
       "      <td>1</td>\n",
       "      <td>Chrome</td>\n",
       "      <td>Ads</td>\n",
       "      <td>Other</td>\n",
       "      <td>0.117241</td>\n",
       "      <td>0</td>\n",
       "      <td>0.042595</td>\n",
       "    </tr>\n",
       "    <tr>\n",
       "      <th>27198</th>\n",
       "      <td>0.310345</td>\n",
       "      <td>1</td>\n",
       "      <td>IE</td>\n",
       "      <td>Ads</td>\n",
       "      <td>Romania</td>\n",
       "      <td>0.055172</td>\n",
       "      <td>0</td>\n",
       "      <td>0.527262</td>\n",
       "    </tr>\n",
       "    <tr>\n",
       "      <th>27199</th>\n",
       "      <td>0.103448</td>\n",
       "      <td>0</td>\n",
       "      <td>Chrome</td>\n",
       "      <td>Direct</td>\n",
       "      <td>United States</td>\n",
       "      <td>0.268966</td>\n",
       "      <td>0</td>\n",
       "      <td>0.011101</td>\n",
       "    </tr>\n",
       "  </tbody>\n",
       "</table>\n",
       "<p>136000 rows × 8 columns</p>\n",
       "</div>"
      ],
      "text/plain": [
       "            age  sex  browser  source         country  purchase_value  repeat  \\\n",
       "0      0.258621    0   Safari     Ads   United States        0.268966       0   \n",
       "1      0.137931    1   Chrome  Direct  European Union        0.282759       0   \n",
       "2      0.172414    0   Chrome  Direct   United States        0.151724       0   \n",
       "3      0.551724    0  FireFox     Ads   United States        0.151724       0   \n",
       "4      0.155172    1       IE     SEO   United States        0.048276       0   \n",
       "...         ...  ...      ...     ...             ...             ...     ...   \n",
       "27195  0.189655    1       IE     SEO   United States        0.268966       0   \n",
       "27196  0.413793    0   Safari     Ads          France        0.020690       0   \n",
       "27197  0.396552    1   Chrome     Ads           Other        0.117241       0   \n",
       "27198  0.310345    1       IE     Ads         Romania        0.055172       0   \n",
       "27199  0.103448    0   Chrome  Direct   United States        0.268966       0   \n",
       "\n",
       "           time  \n",
       "0      0.700628  \n",
       "1      0.789170  \n",
       "2      0.628595  \n",
       "3      0.099136  \n",
       "4      0.107973  \n",
       "...         ...  \n",
       "27195  0.489623  \n",
       "27196  0.027825  \n",
       "27197  0.042595  \n",
       "27198  0.527262  \n",
       "27199  0.011101  \n",
       "\n",
       "[136000 rows x 8 columns]"
      ]
     },
     "execution_count": 29,
     "metadata": {},
     "output_type": "execute_result"
    }
   ],
   "source": [
    "new_data"
   ]
  },
  {
   "cell_type": "code",
   "execution_count": 30,
   "metadata": {},
   "outputs": [],
   "source": [
    "columns = new_data.columns"
   ]
  },
  {
   "cell_type": "code",
   "execution_count": 31,
   "metadata": {},
   "outputs": [
    {
     "data": {
      "text/plain": [
       "Text(0.5, 0, 'age')"
      ]
     },
     "execution_count": 31,
     "metadata": {},
     "output_type": "execute_result"
    },
    {
     "data": {
      "image/png": "[encoded data removed]",
      "text/plain": [
       "<Figure size 432x288 with 1 Axes>"
      ]
     },
     "metadata": {
      "needs_background": "light"
     },
     "output_type": "display_data"
    }
   ],
   "source": [
    "sns.distplot(new_data['age'], rug=False)\n",
    "plt.xlabel('age', fontsize=13)"
   ]
  },
  {
   "cell_type": "code",
   "execution_count": 32,
   "metadata": {},
   "outputs": [
    {
     "data": {
      "text/plain": [
       "Text(0.5, 0, 'sex')"
      ]
     },
     "execution_count": 32,
     "metadata": {},
     "output_type": "execute_result"
    },
    {
     "data": {
      "image/png": "[encoded data removed]",
      "text/plain": [
       "<Figure size 432x288 with 1 Axes>"
      ]
     },
     "metadata": {
      "needs_background": "light"
     },
     "output_type": "display_data"
    }
   ],
   "source": [
    "sns.distplot(new_data['sex'], rug=False)\n",
    "plt.xlabel('sex', fontsize=13)"
   ]
  },
  {
   "cell_type": "code",
   "execution_count": 33,
   "metadata": {},
   "outputs": [
    {
     "data": {
      "text/plain": [
       "Text(0.5, 0, 'purchase_value')"
      ]
     },
     "execution_count": 33,
     "metadata": {},
     "output_type": "execute_result"
    },
    {
     "data": {
      "image/png": "[encoded data removed]",
      "text/plain": [
       "<Figure size 432x288 with 1 Axes>"
      ]
     },
     "metadata": {
      "needs_background": "light"
     },
     "output_type": "display_data"
    }
   ],
   "source": [
    "sns.distplot(new_data['purchase_value'], rug=False)\n",
    "plt.xlabel('purchase_value', fontsize=13)"
   ]
  },
  {
   "cell_type": "code",
   "execution_count": 34,
   "metadata": {},
   "outputs": [
    {
     "data": {
      "text/plain": [
       "Text(0.5, 0, 'time')"
      ]
     },
     "execution_count": 34,
     "metadata": {},
     "output_type": "execute_result"
    },
    {
     "data": {
      "image/png": "[encoded data removed]",
      "text/plain": [
       "<Figure size 432x288 with 1 Axes>"
      ]
     },
     "metadata": {
      "needs_background": "light"
     },
     "output_type": "display_data"
    }
   ],
   "source": [
    "sns.distplot(new_data['time'], rug=False)\n",
    "plt.xlabel('time', fontsize=13)"
   ]
  },
  {
   "cell_type": "code",
   "execution_count": 35,
   "metadata": {},
   "outputs": [
    {
     "data": {
      "text/plain": [
       "array(['Safari', 'Chrome', 'FireFox', 'IE', 'Opera'], dtype=object)"
      ]
     },
     "execution_count": 35,
     "metadata": {},
     "output_type": "execute_result"
    }
   ],
   "source": [
    "new_data['browser'].unique()"
   ]
  },
  {
   "cell_type": "code",
   "execution_count": 36,
   "metadata": {},
   "outputs": [],
   "source": [
    "from sklearn.preprocessing import LabelEncoder\n",
    "from tensorflow.keras.utils import to_categorical"
   ]
  },
  {
   "cell_type": "code",
   "execution_count": 37,
   "metadata": {},
   "outputs": [],
   "source": [
    "# t = LabelEncoder()\n",
    "# new_data['browser'] = t.fit_transform(new_data['browser'])"
   ]
  },
  {
   "cell_type": "code",
   "execution_count": 38,
   "metadata": {},
   "outputs": [],
   "source": [
    "one_hot_browser = pd.get_dummies(new_data['browser'])"
   ]
  },
  {
   "cell_type": "code",
   "execution_count": 39,
   "metadata": {},
   "outputs": [],
   "source": [
    "one_hot_source = pd.get_dummies(new_data['source'])"
   ]
  },
  {
   "cell_type": "code",
   "execution_count": 40,
   "metadata": {},
   "outputs": [],
   "source": [
    "new_data.drop('browser', axis =1, inplace = True)\n",
    "new_data.drop('source', axis =1,  inplace = True)"
   ]
  },
  {
   "cell_type": "code",
   "execution_count": 41,
   "metadata": {},
   "outputs": [],
   "source": [
    "country = new_data['country']\n",
    "# country.to_csv('./country.csv')"
   ]
  },
  {
   "cell_type": "code",
   "execution_count": 42,
   "metadata": {},
   "outputs": [],
   "source": [
    "new_data.drop('country', axis =1,  inplace = True)"
   ]
  },
  {
   "cell_type": "code",
   "execution_count": 43,
   "metadata": {},
   "outputs": [
    {
     "data": {
      "text/html": [
       "<div>\n",
       "<style scoped>\n",
       "    .dataframe tbody tr th:only-of-type {\n",
       "        vertical-align: middle;\n",
       "    }\n",
       "\n",
       "    .dataframe tbody tr th {\n",
       "        vertical-align: top;\n",
       "    }\n",
       "\n",
       "    .dataframe thead th {\n",
       "        text-align: right;\n",
       "    }\n",
       "</style>\n",
       "<table border=\"1\" class=\"dataframe\">\n",
       "  <thead>\n",
       "    <tr style=\"text-align: right;\">\n",
       "      <th></th>\n",
       "      <th>age</th>\n",
       "      <th>sex</th>\n",
       "      <th>purchase_value</th>\n",
       "      <th>repeat</th>\n",
       "      <th>time</th>\n",
       "      <th>Chrome</th>\n",
       "      <th>FireFox</th>\n",
       "      <th>IE</th>\n",
       "      <th>Opera</th>\n",
       "      <th>Safari</th>\n",
       "      <th>Ads</th>\n",
       "      <th>Direct</th>\n",
       "      <th>SEO</th>\n",
       "    </tr>\n",
       "  </thead>\n",
       "  <tbody>\n",
       "    <tr>\n",
       "      <th>0</th>\n",
       "      <td>0.258621</td>\n",
       "      <td>0</td>\n",
       "      <td>0.268966</td>\n",
       "      <td>0</td>\n",
       "      <td>0.700628</td>\n",
       "      <td>0</td>\n",
       "      <td>0</td>\n",
       "      <td>0</td>\n",
       "      <td>0</td>\n",
       "      <td>1</td>\n",
       "      <td>1</td>\n",
       "      <td>0</td>\n",
       "      <td>0</td>\n",
       "    </tr>\n",
       "    <tr>\n",
       "      <th>1</th>\n",
       "      <td>0.137931</td>\n",
       "      <td>1</td>\n",
       "      <td>0.282759</td>\n",
       "      <td>0</td>\n",
       "      <td>0.789170</td>\n",
       "      <td>1</td>\n",
       "      <td>0</td>\n",
       "      <td>0</td>\n",
       "      <td>0</td>\n",
       "      <td>0</td>\n",
       "      <td>0</td>\n",
       "      <td>1</td>\n",
       "      <td>0</td>\n",
       "    </tr>\n",
       "    <tr>\n",
       "      <th>2</th>\n",
       "      <td>0.172414</td>\n",
       "      <td>0</td>\n",
       "      <td>0.151724</td>\n",
       "      <td>0</td>\n",
       "      <td>0.628595</td>\n",
       "      <td>1</td>\n",
       "      <td>0</td>\n",
       "      <td>0</td>\n",
       "      <td>0</td>\n",
       "      <td>0</td>\n",
       "      <td>0</td>\n",
       "      <td>1</td>\n",
       "      <td>0</td>\n",
       "    </tr>\n",
       "    <tr>\n",
       "      <th>3</th>\n",
       "      <td>0.551724</td>\n",
       "      <td>0</td>\n",
       "      <td>0.151724</td>\n",
       "      <td>0</td>\n",
       "      <td>0.099136</td>\n",
       "      <td>0</td>\n",
       "      <td>1</td>\n",
       "      <td>0</td>\n",
       "      <td>0</td>\n",
       "      <td>0</td>\n",
       "      <td>1</td>\n",
       "      <td>0</td>\n",
       "      <td>0</td>\n",
       "    </tr>\n",
       "    <tr>\n",
       "      <th>4</th>\n",
       "      <td>0.155172</td>\n",
       "      <td>1</td>\n",
       "      <td>0.048276</td>\n",
       "      <td>0</td>\n",
       "      <td>0.107973</td>\n",
       "      <td>0</td>\n",
       "      <td>0</td>\n",
       "      <td>1</td>\n",
       "      <td>0</td>\n",
       "      <td>0</td>\n",
       "      <td>0</td>\n",
       "      <td>0</td>\n",
       "      <td>1</td>\n",
       "    </tr>\n",
       "    <tr>\n",
       "      <th>...</th>\n",
       "      <td>...</td>\n",
       "      <td>...</td>\n",
       "      <td>...</td>\n",
       "      <td>...</td>\n",
       "      <td>...</td>\n",
       "      <td>...</td>\n",
       "      <td>...</td>\n",
       "      <td>...</td>\n",
       "      <td>...</td>\n",
       "      <td>...</td>\n",
       "      <td>...</td>\n",
       "      <td>...</td>\n",
       "      <td>...</td>\n",
       "    </tr>\n",
       "    <tr>\n",
       "      <th>27195</th>\n",
       "      <td>0.189655</td>\n",
       "      <td>1</td>\n",
       "      <td>0.268966</td>\n",
       "      <td>0</td>\n",
       "      <td>0.489623</td>\n",
       "      <td>0</td>\n",
       "      <td>0</td>\n",
       "      <td>1</td>\n",
       "      <td>0</td>\n",
       "      <td>0</td>\n",
       "      <td>0</td>\n",
       "      <td>0</td>\n",
       "      <td>1</td>\n",
       "    </tr>\n",
       "    <tr>\n",
       "      <th>27196</th>\n",
       "      <td>0.413793</td>\n",
       "      <td>0</td>\n",
       "      <td>0.020690</td>\n",
       "      <td>0</td>\n",
       "      <td>0.027825</td>\n",
       "      <td>0</td>\n",
       "      <td>0</td>\n",
       "      <td>0</td>\n",
       "      <td>0</td>\n",
       "      <td>1</td>\n",
       "      <td>1</td>\n",
       "      <td>0</td>\n",
       "      <td>0</td>\n",
       "    </tr>\n",
       "    <tr>\n",
       "      <th>27197</th>\n",
       "      <td>0.396552</td>\n",
       "      <td>1</td>\n",
       "      <td>0.117241</td>\n",
       "      <td>0</td>\n",
       "      <td>0.042595</td>\n",
       "      <td>1</td>\n",
       "      <td>0</td>\n",
       "      <td>0</td>\n",
       "      <td>0</td>\n",
       "      <td>0</td>\n",
       "      <td>1</td>\n",
       "      <td>0</td>\n",
       "      <td>0</td>\n",
       "    </tr>\n",
       "    <tr>\n",
       "      <th>27198</th>\n",
       "      <td>0.310345</td>\n",
       "      <td>1</td>\n",
       "      <td>0.055172</td>\n",
       "      <td>0</td>\n",
       "      <td>0.527262</td>\n",
       "      <td>0</td>\n",
       "      <td>0</td>\n",
       "      <td>1</td>\n",
       "      <td>0</td>\n",
       "      <td>0</td>\n",
       "      <td>1</td>\n",
       "      <td>0</td>\n",
       "      <td>0</td>\n",
       "    </tr>\n",
       "    <tr>\n",
       "      <th>27199</th>\n",
       "      <td>0.103448</td>\n",
       "      <td>0</td>\n",
       "      <td>0.268966</td>\n",
       "      <td>0</td>\n",
       "      <td>0.011101</td>\n",
       "      <td>1</td>\n",
       "      <td>0</td>\n",
       "      <td>0</td>\n",
       "      <td>0</td>\n",
       "      <td>0</td>\n",
       "      <td>0</td>\n",
       "      <td>1</td>\n",
       "      <td>0</td>\n",
       "    </tr>\n",
       "  </tbody>\n",
       "</table>\n",
       "<p>136000 rows × 13 columns</p>\n",
       "</div>"
      ],
      "text/plain": [
       "            age  sex  purchase_value  repeat      time  Chrome  FireFox  IE  \\\n",
       "0      0.258621    0        0.268966       0  0.700628       0        0   0   \n",
       "1      0.137931    1        0.282759       0  0.789170       1        0   0   \n",
       "2      0.172414    0        0.151724       0  0.628595       1        0   0   \n",
       "3      0.551724    0        0.151724       0  0.099136       0        1   0   \n",
       "4      0.155172    1        0.048276       0  0.107973       0        0   1   \n",
       "...         ...  ...             ...     ...       ...     ...      ...  ..   \n",
       "27195  0.189655    1        0.268966       0  0.489623       0        0   1   \n",
       "27196  0.413793    0        0.020690       0  0.027825       0        0   0   \n",
       "27197  0.396552    1        0.117241       0  0.042595       1        0   0   \n",
       "27198  0.310345    1        0.055172       0  0.527262       0        0   1   \n",
       "27199  0.103448    0        0.268966       0  0.011101       1        0   0   \n",
       "\n",
       "       Opera  Safari  Ads  Direct  SEO  \n",
       "0          0       1    1       0    0  \n",
       "1          0       0    0       1    0  \n",
       "2          0       0    0       1    0  \n",
       "3          0       0    1       0    0  \n",
       "4          0       0    0       0    1  \n",
       "...      ...     ...  ...     ...  ...  \n",
       "27195      0       0    0       0    1  \n",
       "27196      0       1    1       0    0  \n",
       "27197      0       0    1       0    0  \n",
       "27198      0       0    1       0    0  \n",
       "27199      0       0    0       1    0  \n",
       "\n",
       "[136000 rows x 13 columns]"
      ]
     },
     "execution_count": 43,
     "metadata": {},
     "output_type": "execute_result"
    }
   ],
   "source": [
    "one_hot_label = pd.concat((one_hot_browser,one_hot_source),axis = 1)\n",
    "new_data_1 =  pd.concat((new_data,one_hot_label),axis =1 )\n",
    "new_data_1"
   ]
  },
  {
   "cell_type": "code",
   "execution_count": 44,
   "metadata": {},
   "outputs": [
    {
     "name": "stdout",
     "output_type": "stream",
     "text": [
      "(108800, 5) \n",
      " (27200, 5)\n"
     ]
    }
   ],
   "source": [
    "# final_train = new_data_1[:108800]\n",
    "# final_test  =  new_data_1[108800:]\n",
    "final_train = new_data[:108800]\n",
    "final_test  =  new_data[108800:]\n",
    "print(final_train.shape,'\\n', final_test.shape)"
   ]
  },
  {
   "cell_type": "code",
   "execution_count": 45,
   "metadata": {},
   "outputs": [],
   "source": [
    "from sklearn.model_selection import train_test_split\n",
    "X_train, X_test, y_train, y_test = train_test_split(final_train,\n",
    "                                                    train_class,\n",
    "                                                    test_size=0.25,\n",
    "                                                    random_state=42,\n",
    "                                                    shuffle=False)"
   ]
  },
  {
   "cell_type": "code",
   "execution_count": 46,
   "metadata": {},
   "outputs": [
    {
     "name": "stdout",
     "output_type": "stream",
     "text": [
      "Requirement already satisfied: xgboost in c:\\programdata\\anaconda3\\envs\\tf\\lib\\site-packages (1.1.0)\n",
      "Requirement already satisfied: numpy in c:\\programdata\\anaconda3\\envs\\tf\\lib\\site-packages (from xgboost) (1.18.1)\n",
      "Requirement already satisfied: scipy in c:\\programdata\\anaconda3\\envs\\tf\\lib\\site-packages (from xgboost) (1.4.1)\n",
      "train evaluation :\n",
      "Accuracy:0.96\n"
     ]
    }
   ],
   "source": [
    "!pip install xgboost\n",
    "import xgboost as xgb\n",
    "from sklearn import metrics\n",
    "\n",
    "scale_pos = (108800 - 10132) / 10132\n",
    "model_xgb = xgb.XGBClassifier(objective=\"binary:logistic\",\n",
    "                              random_state=42,\n",
    "                              booster = 'gbtree',\n",
    "                              gamma = 0 ,\n",
    "                              #scale_pos_weight=scale_pos\n",
    "                             )\n",
    "model_xgb.fit(X_train, y_train)\n",
    "pred = model_xgb.predict(X_test)\n",
    "print('train evaluation :')\n",
    "print('Accuracy:{:.2f}'.format(metrics.accuracy_score(y_test, pred)))\n"
   ]
  },
  {
   "cell_type": "code",
   "execution_count": 47,
   "metadata": {},
   "outputs": [
    {
     "name": "stdout",
     "output_type": "stream",
     "text": [
      "[0 0 0 ... 0 0 0]\n",
      "81600     0\n",
      "81601     0\n",
      "81602     0\n",
      "81603     0\n",
      "81604     0\n",
      "         ..\n",
      "108795    0\n",
      "108796    0\n",
      "108797    0\n",
      "108798    0\n",
      "108799    0\n",
      "Name: class, Length: 27200, dtype: int64\n"
     ]
    }
   ],
   "source": [
    "print(pred)\n",
    "print(y_test)"
   ]
  },
  {
   "cell_type": "code",
   "execution_count": 48,
   "metadata": {},
   "outputs": [],
   "source": [
    "pred_xg = model_xgb.predict(final_test)"
   ]
  },
  {
   "cell_type": "code",
   "execution_count": 49,
   "metadata": {},
   "outputs": [
    {
     "name": "stdout",
     "output_type": "stream",
     "text": [
      "[0 0 0 ... 0 0 0]\n"
     ]
    }
   ],
   "source": [
    "print(pred_xg)"
   ]
  },
  {
   "cell_type": "code",
   "execution_count": 50,
   "metadata": {},
   "outputs": [],
   "source": [
    "# prd = pd.DataFrame()\n",
    "# prd['user_id'] = test_id\n",
    "# prd['class'] = pred_2\n",
    "# prd.to_csv('./final.csv', index = False)"
   ]
  },
  {
   "cell_type": "code",
   "execution_count": 51,
   "metadata": {},
   "outputs": [
    {
     "data": {
      "text/plain": [
       "<catboost.core.CatBoostClassifier at 0x27850475888>"
      ]
     },
     "execution_count": 51,
     "metadata": {},
     "output_type": "execute_result"
    }
   ],
   "source": [
    "#!pip install catboost\n",
    "from catboost import CatBoostClassifier\n",
    "model = CatBoostClassifier(\n",
    "    iterations=50,\n",
    "    random_seed=63,\n",
    "    learning_rate=0.5,\n",
    "    #scale_pos_weight=scale_pos,\n",
    "    custom_loss=[\"F1\"]\n",
    ")\n",
    "model.fit(\n",
    "    X_train, y_train,\n",
    "    eval_set=(X_test, y_test),\n",
    "    verbose=False\n",
    ")"
   ]
  },
  {
   "cell_type": "code",
   "execution_count": 52,
   "metadata": {},
   "outputs": [
    {
     "name": "stdout",
     "output_type": "stream",
     "text": [
      "[0 0 0 ... 0 0 0]\n"
     ]
    }
   ],
   "source": [
    "pred_cat = model.predict(data=final_test)\n",
    "print(pred_cat)"
   ]
  },
  {
   "cell_type": "code",
   "execution_count": 53,
   "metadata": {},
   "outputs": [],
   "source": [
    "submission = pd.DataFrame({'user_id':test_id, 'class': pred_cat})\n",
    "submission.to_csv('./credit.csv', index = False)"
   ]
  },
  {
   "cell_type": "code",
   "execution_count": 54,
   "metadata": {},
   "outputs": [
    {
     "name": "stdout",
     "output_type": "stream",
     "text": [
      "[0 0 0 ... 0 0 0]\n"
     ]
    }
   ],
   "source": [
    "result = (pred_xg + pred_cat)\n",
    "print(result)"
   ]
  },
  {
   "cell_type": "code",
   "execution_count": 55,
   "metadata": {},
   "outputs": [],
   "source": [
    "result = (pred_xg + pred_cat ) / 2"
   ]
  },
  {
   "cell_type": "code",
   "execution_count": 56,
   "metadata": {},
   "outputs": [],
   "source": [
    "result[result > 0] = 1"
   ]
  },
  {
   "cell_type": "code",
   "execution_count": 57,
   "metadata": {},
   "outputs": [
    {
     "name": "stdout",
     "output_type": "stream",
     "text": [
      "float64\n",
      "int32\n"
     ]
    }
   ],
   "source": [
    "print(result.dtype)\n",
    "result = result.astype(int)\n",
    "print(result.dtype)"
   ]
  },
  {
   "cell_type": "code",
   "execution_count": 58,
   "metadata": {},
   "outputs": [],
   "source": [
    "submission = pd.DataFrame({'user_id':test_id, 'class': result})\n",
    "submission.to_csv('./ensemble.csv', index = False)"
   ]
  },
  {
   "cell_type": "code",
   "execution_count": null,
   "metadata": {},
   "outputs": [],
   "source": []
  },
  {
   "cell_type": "code",
   "execution_count": null,
   "metadata": {},
   "outputs": [],
   "source": []
  },
  {
   "cell_type": "code",
   "execution_count": null,
   "metadata": {},
   "outputs": [],
   "source": []
  },
  {
   "cell_type": "code",
   "execution_count": null,
   "metadata": {},
   "outputs": [],
   "source": []
  },
  {
   "cell_type": "code",
   "execution_count": null,
   "metadata": {},
   "outputs": [],
   "source": []
  },
  {
   "cell_type": "code",
   "execution_count": null,
   "metadata": {},
   "outputs": [],
   "source": []
  },
  {
   "cell_type": "code",
   "execution_count": null,
   "metadata": {},
   "outputs": [],
   "source": []
  },
  {
   "cell_type": "code",
   "execution_count": null,
   "metadata": {},
   "outputs": [],
   "source": []
  },
  {
   "cell_type": "code",
   "execution_count": null,
   "metadata": {},
   "outputs": [],
   "source": []
  },
  {
   "cell_type": "code",
   "execution_count": null,
   "metadata": {},
   "outputs": [],
   "source": []
  }
 ],
 "metadata": {
  "kernelspec": {
   "display_name": "Python 3",
   "language": "python",
   "name": "python3"
  },
  "language_info": {
   "codemirror_mode": {
    "name": "ipython",
    "version": 3
   },
   "file_extension": ".py",
   "mimetype": "text/x-python",
   "name": "python",
   "nbconvert_exporter": "python",
   "pygments_lexer": "ipython3",
   "version": "3.7.7"
  }
 },
 "nbformat": 4,
 "nbformat_minor": 4
}
